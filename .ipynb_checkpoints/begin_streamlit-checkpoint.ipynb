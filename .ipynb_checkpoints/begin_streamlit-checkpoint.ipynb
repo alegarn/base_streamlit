{
 "cells": [
  {
   "cell_type": "markdown",
   "id": "5426a923",
   "metadata": {},
   "source": [
    "# Test Streamlit\n",
    "\n",
    "Welcome to the Jupyter \"Streamlit basic stuff\"\n",
    "\n",
    "### Content\n",
    "- .csv file\n",
    "- Data \"analysis\" (short) and 3 graphs\n",
    "- Transform it to some dashboard\n",
    "\n",
    "Voir:\n",
    "https://www.youtube.com/watch?v=Sb0A9i6d320"
   ]
  },
  {
   "cell_type": "code",
   "execution_count": null,
   "id": "fdeab509",
   "metadata": {},
   "outputs": [],
   "source": [
    "import pandas as pd\n",
    "import plotly.express as px\n",
    "import streamlit as st"
   ]
  },
  {
   "cell_type": "code",
   "execution_count": null,
   "id": "8bc96c02",
   "metadata": {},
   "outputs": [],
   "source": [
    "df = pd.read_csv(r'data/combined_final_last_10_years.csv')\n",
    "\n",
    "print(df)"
   ]
  },
  {
   "cell_type": "code",
   "execution_count": null,
   "id": "368c305c",
   "metadata": {},
   "outputs": [],
   "source": [
    "# the icon: https://www.webfx.com/tools/emoji-cheat-sheet/\n",
    "st.set_page_config(\n",
    "    page_title=\"Dashboard: Inequalities in the World 2006 - 20XX \",\n",
    "    page_icon=\":bar_chart:\",\n",
    "    layout=\"wide\"\n",
    ")\n",
    "\n",
    "#st.dataframe(df)\n",
    "\n"
   ]
  },
  {
   "cell_type": "code",
   "execution_count": null,
   "id": "a6e74dcf",
   "metadata": {},
   "outputs": [],
   "source": [
    "gini_per_continent = df[['continent', 'year', 'gini_index']].loc[df['year'] == 2006]\n",
    "gini_per_continent = df[['continent', 'year', 'gini_index']].groupby(\"continent\", group_keys=True)\n",
    "import numpy as np\n",
    "list_con = list(gini_per_continent.mean().index)\n",
    "print(list_con)"
   ]
  },
  {
   "cell_type": "code",
   "execution_count": null,
   "id": "82b94738",
   "metadata": {},
   "outputs": [],
   "source": [
    "income_per_continent = df[['continent', 'year', 'income_per_person']].groupby(\"continent\", group_keys = True)\n",
    "print(income_per_continent)"
   ]
  },
  {
   "cell_type": "code",
   "execution_count": null,
   "id": "1ca48230",
   "metadata": {},
   "outputs": [],
   "source": []
  }
 ],
 "metadata": {
  "kernelspec": {
   "display_name": "Python 3 (ipykernel)",
   "language": "python",
   "name": "python3"
  },
  "language_info": {
   "codemirror_mode": {
    "name": "ipython",
    "version": 3
   },
   "file_extension": ".py",
   "mimetype": "text/x-python",
   "name": "python",
   "nbconvert_exporter": "python",
   "pygments_lexer": "ipython3",
   "version": "3.9.7"
  }
 },
 "nbformat": 4,
 "nbformat_minor": 5
}
