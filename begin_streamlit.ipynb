{
 "cells": [
  {
   "cell_type": "markdown",
   "id": "5426a923",
   "metadata": {},
   "source": [
    "# Test Streamlit\n",
    "\n",
    "Welcome to the Jupyter \"Streamlit basic stuff\"\n",
    "\n",
    "### Content\n",
    "- .csv file\n",
    "- Data \"analysis\" (short) and 3 graphs\n",
    "- Transform it to some dashboard\n",
    "\n",
    "Voir:\n",
    "https://www.youtube.com/watch?v=Sb0A9i6d320"
   ]
  },
  {
   "cell_type": "code",
   "execution_count": 3,
   "id": "fdeab509",
   "metadata": {},
   "outputs": [],
   "source": [
    "import pandas as pd\n",
    "import plotly.express as px\n",
    "import streamlit as st"
   ]
  },
  {
   "cell_type": "code",
   "execution_count": 4,
   "id": "8bc96c02",
   "metadata": {},
   "outputs": [
    {
     "name": "stdout",
     "output_type": "stream",
     "text": [
      "     continent           country  year  demox_eiu  income_per_person  \\\n",
      "0       Africa  Congo, Dem. Rep.  2006       27.6                605   \n",
      "1       Africa  Congo, Dem. Rep.  2007       25.2                623   \n",
      "2       Africa  Congo, Dem. Rep.  2008       22.8                640   \n",
      "3       Africa  Congo, Dem. Rep.  2009       22.1                637   \n",
      "4       Africa  Congo, Dem. Rep.  2010       21.5                660   \n",
      "...        ...               ...   ...        ...                ...   \n",
      "1229   Oceania       New Zealand  2012       92.6              33300   \n",
      "1230   Oceania       New Zealand  2013       92.6              33900   \n",
      "1231   Oceania       New Zealand  2014       92.6              34600   \n",
      "1232   Oceania       New Zealand  2015       92.6              35200   \n",
      "1233   Oceania       New Zealand  2016       92.6              35700   \n",
      "\n",
      "      invest_%_gdp  tax_%_gdp  gini_index  \n",
      "0             14.6       6.83        42.2  \n",
      "1             13.7       6.99        42.1  \n",
      "2             10.9       8.97        42.1  \n",
      "3             14.6       7.89        42.1  \n",
      "4             28.8       8.35        42.1  \n",
      "...            ...        ...         ...  \n",
      "1229          20.9      26.80        33.5  \n",
      "1230          22.0      26.60        34.0  \n",
      "1231          22.9      26.80        34.0  \n",
      "1232          23.4      27.40        34.5  \n",
      "1233          24.4      27.20        34.8  \n",
      "\n",
      "[1234 rows x 8 columns]\n"
     ]
    }
   ],
   "source": [
    "df = pd.read_csv(r'data/combined_final_last_10_years.csv')\n",
    "\n",
    "print(df)"
   ]
  },
  {
   "cell_type": "code",
   "execution_count": 10,
   "id": "368c305c",
   "metadata": {},
   "outputs": [
    {
     "name": "stderr",
     "output_type": "stream",
     "text": [
      "2022-07-14 03:19:10.214 \n",
      "  \u001b[33m\u001b[1mWarning:\u001b[0m to view this Streamlit app on a browser, run it with the following\n",
      "  command:\n",
      "\n",
      "    streamlit run /home/alegarn/anaconda3/lib/python3.9/site-packages/ipykernel_launcher.py [ARGUMENTS]\n"
     ]
    },
    {
     "data": {
      "text/plain": [
       "DeltaGenerator(_root_container=0, _provided_cursor=None, _parent=None, _block_type=None, _form_data=None)"
      ]
     },
     "execution_count": 10,
     "metadata": {},
     "output_type": "execute_result"
    }
   ],
   "source": [
    "# the icon: https://www.webfx.com/tools/emoji-cheat-sheet/\n",
    "st.set_page_config(\n",
    "    page_title=\"Dashboard: Inequalities in the World 2006 - 20XX \",\n",
    "    page_icon=\":bar_chart:\",\n",
    "    layout=\"wide\"\n",
    ")\n",
    "\n",
    "st.dataframe(df)\n",
    "\n"
   ]
  },
  {
   "cell_type": "code",
   "execution_count": 47,
   "id": "a6e74dcf",
   "metadata": {},
   "outputs": [
    {
     "name": "stdout",
     "output_type": "stream",
     "text": [
      "['Africa', 'Americas', 'Asia', 'Europe', 'Oceania']\n"
     ]
    }
   ],
   "source": [
    "gini_per_continent = df[['continent', 'year', 'gini_index']].loc[df['year'] == 2006]\n",
    "gini_per_continent = df[['continent', 'year', 'gini_index']].groupby(\"continent\", group_keys=True)\n",
    "import numpy as np\n",
    "list_con = list(gini_per_continent.mean().index)\n",
    "print(list_con)"
   ]
  },
  {
   "cell_type": "code",
   "execution_count": null,
   "id": "82b94738",
   "metadata": {},
   "outputs": [],
   "source": []
  },
  {
   "cell_type": "code",
   "execution_count": null,
   "id": "1ca48230",
   "metadata": {},
   "outputs": [],
   "source": []
  }
 ],
 "metadata": {
  "kernelspec": {
   "display_name": "Python 3 (ipykernel)",
   "language": "python",
   "name": "python3"
  },
  "language_info": {
   "codemirror_mode": {
    "name": "ipython",
    "version": 3
   },
   "file_extension": ".py",
   "mimetype": "text/x-python",
   "name": "python",
   "nbconvert_exporter": "python",
   "pygments_lexer": "ipython3",
   "version": "3.9.7"
  }
 },
 "nbformat": 4,
 "nbformat_minor": 5
}
